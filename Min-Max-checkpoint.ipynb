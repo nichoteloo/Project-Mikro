{
 "cells": [
  {
   "cell_type": "code",
   "execution_count": 1,
   "metadata": {},
   "outputs": [],
   "source": [
    "import numpy as np\n",
    "import matplotlib.pyplot as plt\n",
    "import pandas as pd\n",
    "import os"
   ]
  },
  {
   "cell_type": "code",
   "execution_count": 2,
   "metadata": {},
   "outputs": [],
   "source": [
    "file = '11.csv' ## 4 AP target (0,0)"
   ]
  },
  {
   "cell_type": "code",
   "execution_count": 3,
   "metadata": {},
   "outputs": [],
   "source": [
    "x_real = int(file[0])\n",
    "y_real = int(file[1])"
   ]
  },
  {
   "cell_type": "code",
   "execution_count": 4,
   "metadata": {},
   "outputs": [],
   "source": [
    "df = pd.read_csv(file)"
   ]
  },
  {
   "cell_type": "code",
   "execution_count": 5,
   "metadata": {},
   "outputs": [],
   "source": [
    "df = df.drop(columns=[\"Time\"])\n",
    "df = df.dropna()"
   ]
  },
  {
   "cell_type": "code",
   "execution_count": 6,
   "metadata": {},
   "outputs": [],
   "source": [
    "dist = lambda k, n, rssi: 10**((k - rssi)/(10*n))"
   ]
  },
  {
   "cell_type": "code",
   "execution_count": 7,
   "metadata": {},
   "outputs": [],
   "source": [
    "rssi_d0 = -40\n",
    "ple = 3.0"
   ]
  },
  {
   "cell_type": "code",
   "execution_count": 8,
   "metadata": {},
   "outputs": [],
   "source": [
    "df.columns = [\"AP1\", \"AP2\", \"AP3\", \"AP4\"]"
   ]
  },
  {
   "cell_type": "code",
   "execution_count": 9,
   "metadata": {
    "scrolled": true
   },
   "outputs": [],
   "source": [
    "if (x_real == 1) & (y_real == 1):\n",
    "    df = df.drop('AP3',1)\n",
    "    xcoords = [0, 4, 0]\n",
    "    ycoords = [0, 0, 4]\n",
    "    df.columns = [\"AP1\", \"AP2\", \"AP3\"]\n",
    "elif (x_real == 3) & (y_real == 1):\n",
    "    df = df.drop('AP4',1)\n",
    "    xcoords = [0, 4, 4]\n",
    "    ycoords = [0, 0, 4]\n",
    "    df.columns = [\"AP1\", \"AP2\", \"AP3\"]\n",
    "elif (x_real == 1) & (y_real == 3):\n",
    "    df = df.drop('AP2',1)\n",
    "    xcoords = [0, 4, 0]\n",
    "    ycoords = [0, 4, 4]\n",
    "    df.columns = [\"AP1\", \"AP2\", \"AP3\"]\n",
    "elif (x_real == 3) & (y_real == 3):\n",
    "    df = df.drop('AP1',1)\n",
    "    xcoords = [4, 4, 0]\n",
    "    ycoords = [0, 4, 4]\n",
    "    df.columns = [\"AP1\", \"AP2\", \"AP3\"]"
   ]
  },
  {
   "cell_type": "code",
   "execution_count": 10,
   "metadata": {},
   "outputs": [],
   "source": [
    "for i in range(0,3):\n",
    "    df[f\"dist{i+1}\"] = dist(rssi_d0, ple, df[f\"AP{i+1}\"])"
   ]
  },
  {
   "cell_type": "code",
   "execution_count": 11,
   "metadata": {},
   "outputs": [],
   "source": [
    "for i in range(0,3):\n",
    "    df[f\"x{i+1}_max\"] = xcoords[i] + df[f\"dist{i+1}\"]\n",
    "    df[f\"x{i+1}_min\"] = xcoords[i] - df[f\"dist{i+1}\"]\n",
    "    df[f\"y{i+1}_max\"] = ycoords[i] + df[f\"dist{i+1}\"]\n",
    "    df[f\"y{i+1}_min\"] = ycoords[i] - df[f\"dist{i+1}\"]"
   ]
  },
  {
   "cell_type": "code",
   "execution_count": 12,
   "metadata": {},
   "outputs": [],
   "source": [
    "xmax = np.array(pd.concat([df[\"x1_max\"], df[\"x2_max\"], df[\"x3_max\"]]).sort_values(ascending=True))\n",
    "xmin = np.array(pd.concat([df[\"x1_min\"], df[\"x2_min\"], df[\"x3_min\"]]).sort_values(ascending=False))\n",
    "ymax = np.array(pd.concat([df[\"y1_max\"], df[\"y2_max\"], df[\"y3_max\"]]).sort_values(ascending=True))\n",
    "ymin = np.array(pd.concat([df[\"y1_min\"], df[\"y2_min\"], df[\"y3_min\"]]).sort_values(ascending=False))"
   ]
  },
  {
   "cell_type": "code",
   "execution_count": 13,
   "metadata": {},
   "outputs": [],
   "source": [
    "xminmax = xmax[:100]\n",
    "xmaxmin = xmin[:100]\n",
    "yminmax = ymax[:100]\n",
    "ymaxmin = ymin[:100]"
   ]
  },
  {
   "cell_type": "code",
   "execution_count": 14,
   "metadata": {},
   "outputs": [],
   "source": [
    "x_pred = (xminmax + xmaxmin)/2\n",
    "y_pred = (yminmax + ymaxmin)/2"
   ]
  },
  {
   "cell_type": "code",
   "execution_count": 15,
   "metadata": {},
   "outputs": [],
   "source": [
    "SQEmm = np.sqrt((x_pred - x_real)**2 + (y_pred-y_real)**2)\n",
    "MSEmm = np.mean(SQEmm)"
   ]
  },
  {
   "cell_type": "code",
   "execution_count": 16,
   "metadata": {},
   "outputs": [
    {
     "data": {
      "text/plain": [
       "0.6157747498398362"
      ]
     },
     "execution_count": 16,
     "metadata": {},
     "output_type": "execute_result"
    }
   ],
   "source": [
    "MSEmm"
   ]
  },
  {
   "cell_type": "code",
   "execution_count": 24,
   "metadata": {},
   "outputs": [
    {
     "data": {
      "image/png": "[encoded data removed]",
      "text/plain": [
       "<Figure size 576x432 with 1 Axes>"
      ]
     },
     "metadata": {
      "needs_background": "light"
     },
     "output_type": "display_data"
    }
   ],
   "source": [
    "## plot graph\n",
    "\n",
    "plt.figure(file, figsize = (8,6))\n",
    "plt.title(\"Min Max Approximation\", fontsize=15, fontweight=\"bold\")\n",
    "plt.plot(0,0,\"X\",label=\"AP1\",markersize=12,c=\"red\")\n",
    "plt.plot(4,0,\"X\",label=\"AP2\",markersize=12,c=\"red\")\n",
    "plt.plot(4,4,\"X\",label=\"AP3\",markersize=12,c=\"red\")\n",
    "plt.plot(0,4,\"X\",label=\"AP4\",markersize=12,c=\"red\")\n",
    "plt.scatter(x_pred,y_pred,label=\"minmax\",c=\"blue\")\n",
    "plt.plot(x_real,y_real,\"D\",label=\"real\",markersize=9,c=\"brown\")\n",
    "plt.plot(np.mean(x_pred), np.mean(y_pred), \"*\", label=\"$avg_{minmax}$\", markersize=12, c=\"black\")\n",
    "plt.ylim([-1,5])\n",
    "plt.xlim([-1,5])\n",
    "plt.xticks(np.arange(-1,5,1), fontsize=12)\n",
    "plt.yticks(np.arange(5,-1,-1), fontsize=12)\n",
    "plt.gca().invert_yaxis()\n",
    "plt.grid()\n",
    "plt.show()"
   ]
  },
  {
   "cell_type": "code",
   "execution_count": null,
   "metadata": {},
   "outputs": [],
   "source": []
  }
 ],
 "metadata": {
  "kernelspec": {
   "display_name": "Python [conda env:NicolasEnv] *",
   "language": "python",
   "name": "conda-env-NicolasEnv-py"
  },
  "language_info": {
   "codemirror_mode": {
    "name": "ipython",
    "version": 3
   },
   "file_extension": ".py",
   "mimetype": "text/x-python",
   "name": "python",
   "nbconvert_exporter": "python",
   "pygments_lexer": "ipython3",
   "version": "3.7.6"
  }
 },
 "nbformat": 4,
 "nbformat_minor": 4
}
